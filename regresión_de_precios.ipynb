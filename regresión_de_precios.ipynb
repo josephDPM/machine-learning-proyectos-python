{
 "cells": [
  {
   "cell_type": "code",
   "execution_count": null,
   "id": "129eb36d",
   "metadata": {},
   "outputs": [],
   "source": [
    "# Predicción de precios de casas usando Regresión Lineal\n",
    "\n",
    "from sklearn.datasets import load_boston\n",
    "from sklearn.linear_model import LinearRegression\n",
    "from sklearn.model_selection import train_test_split\n",
    "from sklearn.metrics import mean_squared_error, r2_score"
   ]
  },
  {
   "cell_type": "code",
   "execution_count": null,
   "id": "704c2811",
   "metadata": {},
   "outputs": [],
   "source": [
    "import warnings\n",
    "warnings.filterwarnings(\"ignore\")  # Para evitar advertencias del dataset boston\n"
   ]
  },
  {
   "cell_type": "code",
   "execution_count": null,
   "id": "1b6f7a3c",
   "metadata": {},
   "outputs": [],
   "source": [
    "# Cargar datos\n",
    "boston = load_boston()\n",
    "X = boston.data\n",
    "y = boston.target\n",
    "\n",
    "# Dividir datos\n",
    "X_train, X_test, y_train, y_test = train_test_split(X, y, test_size=0.2, random_state=0)\n",
    "\n",
    "# Crear modelo\n",
    "modelo = LinearRegression()\n",
    "modelo.fit(X_train, y_train)\n",
    "\n",
    "# Predicción\n",
    "y_pred = modelo.predict(X_test)\n",
    "\n",
    "# Evaluar\n",
    "print(\"MSE:\", mean_squared_error(y_test, y_pred))\n",
    "print(\"R²:\", r2_score(y_test, y_pred))"
   ]
  },
  {
   "cell_type": "code",
   "execution_count": null,
   "id": "a577e8d4",
   "metadata": {},
   "outputs": [],
   "source": []
  }
 ],
 "metadata": {
  "language_info": {
   "name": "python"
  }
 },
 "nbformat": 4,
 "nbformat_minor": 5
}
